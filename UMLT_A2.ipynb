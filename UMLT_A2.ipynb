{
 "cells": [
  {
   "cell_type": "markdown",
   "metadata": {},
   "source": [
    "# Assignment 2: Classification\n",
    "# Using Machine Learning Tools CS3317\n",
    "\n",
    "## Overview\n",
    "\n",
    "In this assignment, you will apply some popular machine learning techniques to the problem of classifying data from histological cell images for the diagnosis of malignant breast cancer. This will be presented as a practical scenario where you are approached by a client to solve a problem.  \n",
    "\n",
    "The main aims of this assignment are: \n",
    "\n",
    "- to use the best practice machine learning workflow for producing a solution to a client's problem;\n",
    "- to visualise data and determine the best pre-processing;\n",
    "- to create the necessary datasets for training and testing purposes;\n",
    "- to train and optimise a selection of models, then choose the best;\n",
    "- to obtain an unbiased measurement of the final model's performance;\n",
    "- to interpret results clearly and concisely.\n",
    "\n",
    "This assignment relates to the following ACS CBOK areas: abstraction, design, hardware and software, data and information, HCI and programming.\n",
    "\n",
    "## General instructions\n",
    "\n",
    "This assignment is divided into several tasks. Use the spaces provided in this notebook to answer the questions posed in each task. Note that some questions require writing a small amount of code, some require graphical results. \n",
    "\n",
    "**Do not** manually edit the data set file we have provided! For marking purposes, it's important that your code runs correctly on the original data file.\n",
    "\n",
    "Some of the parts of this assignment build on the workflow from the first assignment and that part of the course, and so less detailed instructions are provided for this, as you should be able to implement this workflow now without low-level guidance. A substantial portion of the marks for this assignment are associated with making the right choices and executing this workflow correctly and efficiently.\n",
    "\n",
    "This assignment can be solved using methods from [sklearn](https://scikit-learn.org/stable/index.html), [pandas](https://pandas.pydata.org/pandas-docs/stable/index.html), and [matplotlib](https://matplotlib.org/stable/index.html) as presented in the workshops. **Other libraries should not be used** (even though they might have nice functionality) and certain restrictions on sklearn functions will be made clear in the instruction text. You are expected to search and carefully read the documentation for functions that you use, to ensure you are using them correctly."
   ]
  },
  {
   "cell_type": "markdown",
   "metadata": {},
   "source": [
    "# Scenario\n",
    "\n",
    "A client approaches you to solve a machine learning problem for them. They run a pathology lab that processes histological images for healthcare providers and they have created a product that measures the same features as in the *Wisconsin breast cancer data set* though using different acquisitions and processing methods. This makes their method much faster than existing ones, but it is also slightly noisier. The dataset contains measurements of several features that describe characteristics of cell nuclei present in digital images of breast tissue samples. These features include the mean, standard error, and \"worst\" (i.e., largest) values of measurements such as radius, texture, perimeter, area, smoothness, compactness, concavity, concave points, symmetry, and fractal dimension. Each feature is represented by a numeric value, and each data point represents a sample from either a malignant (cancerous) or benign (non-cancerous) breast tissue.\n",
    "\n",
    "The client want to be able to diagnose *malignant* cancer (and distinguish them from *benign* growths) by employing machine learning techniques, and they have asked you to implement this for them.\n",
    "\n",
    "Their requirements are:\n",
    " 1) have at least a 95% probability of detecting malignant cancer when it is present;\n",
    " 2) have no more than 1 in 10 healthy cases (those with benign tumours) labelled as positive (malignant).\n",
    " \n",
    "They have hand-labelled 300 samples for you, which is all they have at the moment.\n",
    "\n",
    "Please follow the instructions below, which will vary in level of detail, as appropriate to the marks given."
   ]
  },
  {
   "cell_type": "code",
   "execution_count": 52,
   "metadata": {
    "tags": []
   },
   "outputs": [],
   "source": [
    "# This code imports some libraries that you will need. \n",
    "# You should not need to modify it, though you are expected to make other imports later in your code.\n",
    "\n",
    "# Common imports\n",
    "import sys\n",
    "import numpy as np\n",
    "import time\n",
    "import pandas as pd\n",
    "import sklearn\n",
    "from sklearn import tree\n",
    "from sklearn import svm\n",
    "from sklearn.pipeline import Pipeline\n",
    "from sklearn.preprocessing import StandardScaler\n",
    "from sklearn.model_selection import GridSearchCV\n",
    "from sklearn.metrics import confusion_matrix\n",
    "import re\n",
    "\n",
    "# Plot setup\n",
    "import matplotlib as mpl\n",
    "import matplotlib.pyplot as plt\n",
    "import seaborn as sns\n",
    "mpl.rc('axes', labelsize=7)\n",
    "mpl.rc('xtick', labelsize=6)\n",
    "mpl.rc('ytick', labelsize=6)\n",
    "mpl.rc('figure', dpi=240)\n",
    "plt.close('all')"
   ]
  },
  {
   "cell_type": "markdown",
   "metadata": {},
   "source": [
    "**Step 1** [1 point]\n",
    "\n",
    "Load the dataset Do this from the csv file, `assignment2.csv`. Extract the feature names for use later on. The first column is our target and it contains the labels (benign and malignant). Note that we will be treating the _malignant_ case as our _positive_ case, as this is the standard convention in medicine."
   ]
  },
  {
   "cell_type": "code",
   "execution_count": 53,
   "metadata": {
    "tags": []
   },
   "outputs": [],
   "source": [
    "data = pd.read_csv(\"assignment2.csv\")\n",
    "\n",
    "feature_names = data.columns[1:]\n",
    "\n",
    "# The following code is used by the autograder\n",
    "# make sure your variable that contains the answer from this step is the one assigned to step1_1data\n",
    "step1_data = data.copy()"
   ]
  },
  {
   "cell_type": "markdown",
   "metadata": {},
   "source": [
    "<!-- BEGIN QUESTION -->\n",
    "\n",
    "**Step 2** [3 points]\n",
    "\n",
    "As this data is well curated by the client already, you do not need to worry about outliers, missing values or imputation in this case, but be aware that this is the exception, not the rule.\n",
    "\n",
    "To familiarise yourself with the nature and information contained in the data, display histograms for the data according to the following instructions:\n",
    " - Isolate each group of features (mean, standard error, and worst) into its own DataFrame.\n",
    " - you are provided with code to display histograms for each feature in the _mean_ group. On _each_ histogram the two classes displayed together in one plot \n",
    " - **repeat this** for the _standard error_ and _worst_ groups; \n",
    "\n",
    "**Based on the histograms and using the function *corr()* or *numpy corrcoef()* which do you think are the 3 strongest features for discriminating between the classes?**"
   ]
  },
  {
   "cell_type": "code",
   "execution_count": 54,
   "metadata": {
    "tags": []
   },
   "outputs": [
    {
     "data": {
      "text/plain": [
       "<Figure size 2880x1920 with 0 Axes>"
      ]
     },
     "metadata": {},
     "output_type": "display_data"
    },
    {
     "data": {
      "text/plain": [
       "<Figure size 1536x1152 with 0 Axes>"
      ]
     },
     "metadata": {},
     "output_type": "display_data"
    },
    {
     "data": {
      "text/plain": [
       "<Figure size 1536x1152 with 0 Axes>"
      ]
     },
     "metadata": {},
     "output_type": "display_data"
    }
   ],
   "source": [
    "# Separate the mean, standard error, and worst groups into separate dataframes\n",
    "mean_group = data.filter(regex='_mean')\n",
    "error_group = data.filter(regex='_se')\n",
    "worst_group = data.filter(regex='_worst')\n",
    "\n",
    "#  You can comment out the plotting code before uploading it to gradescope for faster evaluation\n",
    "class_labels = ['benign', 'malignant'] \n",
    "fig = plt.figure(figsize=(12, 8))  \n",
    "\n",
    "# Plot the histograms for each feature in the mean group with both classes displayed together\n",
    "for i, feature in enumerate(mean_group.columns):  \n",
    "    plt.subplot(3, 4, i+1)  \n",
    "    plt.hist([mean_group[feature][data['label'] == 'benign'], mean_group[feature]\n",
    "             [data['label'] == 'malignant']], label=class_labels)  \n",
    "    plt.xlabel(\"Feature Value\")  \n",
    "    plt.ylabel(\"Frequency\")  \n",
    "    plt.legend() \n",
    "    plt.title(feature)  \n",
    "\n",
    "plt.tight_layout()  \n",
    "plt.show()  \n",
    "\n",
    "for i, feature in enumerate(error_group.columns):  \n",
    "    plt.subplot(3, 4, i+1)  \n",
    "    plt.hist([mean_group[feature][data['label'] == 'benign'], mean_group[feature]\n",
    "             [data['label'] == 'malignant']], label=class_labels)  \n",
    "    plt.xlabel(\"Feature Value\")  \n",
    "    plt.ylabel(\"Frequency\")  \n",
    "    plt.legend() \n",
    "    plt.title(feature)  \n",
    "\n",
    "plt.tight_layout()  \n",
    "plt.show()  \n",
    "\n",
    "for i, feature in enumerate(worst_group.columns):  \n",
    "    plt.subplot(3, 4, i+1)  \n",
    "    plt.hist([mean_group[feature][data['label'] == 'benign'], mean_group[feature]\n",
    "             [data['label'] == 'malignant']], label=class_labels)  \n",
    "    plt.xlabel(\"Feature Value\")  \n",
    "    plt.ylabel(\"Frequency\")  \n",
    "    plt.legend() \n",
    "    plt.title(feature)  \n",
    "\n",
    "plt.tight_layout()  \n",
    "plt.show()  \n",
    "\n",
    "# Add a column 'is_malignant' as a binary representation of the target variable\n",
    "data['is_malignant'] = (data.iloc[:, 0] == 'malignant').astype(int)\n",
    "\n",
    "# Based on the histograms and correlation, determine the 3 strongest features for discriminating between the classes\n",
    "correlations = data.corr().abs()['is_malignant'].sort_values(ascending=False)\n",
    "ranked_features = correlations.index[1:4].tolist()\n",
    "\n",
    "# The following code is used by the autograder\n",
    "step2_data = ranked_features"
   ]
  },
  {
   "cell_type": "markdown",
   "metadata": {},
   "source": [
    "<!-- END QUESTION -->\n",
    "\n",
    "**Step3** [3 points]\n",
    "\n",
    "Convert the labels into 0s and 1s so that benign is represented by 0 and malignant is represented by 1.\n",
    "\n",
    "Split the dataset into appropriate subsets for training, validation and test sets. You must choose the size of each subset. However, make sure that the proportion of the two classes is consistent across all datasets using the _stratify_ option, as used in workshops 5 and 6. Verify the size and label distribution in each dataset."
   ]
  },
  {
   "cell_type": "code",
   "execution_count": 55,
   "metadata": {
    "tags": []
   },
   "outputs": [
    {
     "name": "stdout",
     "output_type": "stream",
     "text": [
      "Training set size: 210\n",
      "Validation set size: 45\n",
      "Test set size: 45\n"
     ]
    }
   ],
   "source": [
    "from sklearn.model_selection import train_test_split\n",
    "import numpy as np\n",
    " \n",
    "# Convert labels to 0 (benign) and 1 (malignant)\n",
    "data['label'] = data['label'].map({'benign': 0, 'malignant': 1})\n",
    "\n",
    "# Split dataset into training, validation, and test sets\n",
    "X = data.drop(columns=['label'])\n",
    "y = data['label']\n",
    "\n",
    "# First, split into train and test\n",
    "X_train, X_temp, y_train, y_temp = train_test_split(X, y, test_size=0.3, random_state=42, stratify=y)\n",
    "\n",
    "# Then, split the remaining train set into validation and test\n",
    "X_val, X_test, y_val, y_test = train_test_split(X_temp, y_temp, test_size=0.5, random_state=42, stratify=y_temp)\n",
    "\n",
    "# Print the size of each resulting subset\n",
    "print(\"Training set size:\", len(X_train))\n",
    "print(\"Validation set size:\", len(X_val))\n",
    "print(\"Test set size:\", len(X_test))\n",
    "\n",
    "# The following code is used by the autograder\n",
    "step3_data = [len(X_train) , len(X_val) , len(X_test)]\n"
   ]
  },
  {
   "cell_type": "markdown",
   "metadata": {},
   "source": [
    "**Step4** [4 points]\n",
    "\n",
    "Baseline measurements \n",
    "\n",
    "For our classification task we will consider **three simple baseline cases**:\n",
    "1) predicting all samples to be negative (class 1)\n",
    "2) predicting all samples to be positive (class 2)\n",
    "3) making a random prediction for each sample with equal probability for each class "
   ]
  },
  {
   "cell_type": "code",
   "execution_count": 56,
   "metadata": {
    "tags": []
   },
   "outputs": [],
   "source": [
    "# create arrays to hold the predicted labels for each baseline case\n",
    "baseline1_preds = np.zeros(len(y_val))  # Predict all samples as negative (class 0)\n",
    "baseline2_preds = np.ones(len(y_val))   # Predict all samples as positive (class 1)\n",
    "baseline3_preds = np.random.randint(0, 2, len(y_val))  # Make random predictions for each sample with equal probability for each class\n",
    "\n",
    "# The following code is used by the autograder.\n",
    "step4_data = [baseline1_preds, baseline2_preds, baseline3_preds]\n"
   ]
  },
  {
   "cell_type": "markdown",
   "metadata": {},
   "source": [
    "**Step5** [2 points]\n",
    "\n",
    "Write a function that returns the following metrics for all baseline measures created in Step4, use the function and print the metrics:\n",
    "\n",
    " - recall\n",
    " - precision\n",
    " - auc\n",
    " - f1score"
   ]
  },
  {
   "cell_type": "code",
   "execution_count": 57,
   "metadata": {
    "tags": []
   },
   "outputs": [
    {
     "name": "stdout",
     "output_type": "stream",
     "text": [
      "Baseline 1 metrics:\n",
      "  Recall: 0.000\n",
      "  Precision: 0.000\n",
      "  AUC: 0.500\n",
      "  F1 Score: 0.000\n",
      "\n",
      "Baseline 2 metrics:\n",
      "  Recall: 1.000\n",
      "  Precision: 0.489\n",
      "  AUC: 0.500\n",
      "  F1 Score: 0.657\n",
      "\n",
      "Baseline 3 metrics:\n",
      "  Recall: 0.500\n",
      "  Precision: 0.524\n",
      "  AUC: 0.533\n",
      "  F1 Score: 0.512\n",
      "\n"
     ]
    },
    {
     "name": "stderr",
     "output_type": "stream",
     "text": [
      "C:\\Users\\sptro\\anaconda3\\lib\\site-packages\\sklearn\\metrics\\_classification.py:1318: UndefinedMetricWarning: Precision is ill-defined and being set to 0.0 due to no predicted samples. Use `zero_division` parameter to control this behavior.\n",
      "  _warn_prf(average, modifier, msg_start, len(result))\n"
     ]
    }
   ],
   "source": [
    "from sklearn.metrics import recall_score, precision_score, roc_auc_score, f1_score\n",
    "\n",
    "def calculate_metrics(y_true, y_pred):\n",
    "    rec = recall_score(y_true, y_pred)\n",
    "    prec = precision_score(y_true, y_pred)\n",
    "    auc = roc_auc_score(y_true, y_pred)\n",
    "    f1 = f1_score(y_true, y_pred)\n",
    "\n",
    "    return rec, prec, auc, f1\n",
    "\n",
    "# calculates and prints the metrics for each metric\n",
    "\n",
    "baseline_metrics = []\n",
    "\n",
    "for i, baseline_preds in enumerate(step4_data, start=1):\n",
    "    rec, prec, auc, f1 = calculate_metrics(y_val, baseline_preds)\n",
    "    baseline_metrics.append((rec, prec, auc, f1))\n",
    "    print(f\"Baseline {i} metrics:\")\n",
    "    print(f\"  Recall: {rec:.3f}\")\n",
    "    print(f\"  Precision: {prec:.3f}\")\n",
    "    print(f\"  AUC: {auc:.3f}\")\n",
    "    print(f\"  F1 Score: {f1:.3f}\")\n",
    "    print()\n",
    "\n",
    "# The following code is used by the autograder.\n",
    "step5_data = calculate_metrics"
   ]
  },
  {
   "cell_type": "markdown",
   "metadata": {},
   "source": [
    "**Step6** [3 points]\n",
    "\n",
    "Create a function which takes in the true labels and the predictions and returns the following parameters:\n",
    "\n",
    "* Number of True Positives (TP)\n",
    "* Number of True Negatives (TN)\n",
    "* Number of False Positive (FP)\n",
    "* Number of False Negative (FN)"
   ]
  },
  {
   "cell_type": "code",
   "execution_count": 58,
   "metadata": {
    "tags": []
   },
   "outputs": [],
   "source": [
    "from sklearn.metrics import confusion_matrix\n",
    "\n",
    "# This function returns the number of TP, TN, FP, FN.\n",
    "def get_values(y_true, y_pred):\n",
    "    cm = confusion_matrix(y_true, y_pred)\n",
    "    tp = cm[1, 1]\n",
    "    tn = cm[0, 0]\n",
    "    fp = cm[0, 1]\n",
    "    fn = cm[1, 0]\n",
    "    return tp, tn, fp, fn\n",
    "\n",
    "# The following code is used by the autograder.\n",
    "step6_data = get_values"
   ]
  },
  {
   "cell_type": "markdown",
   "metadata": {},
   "source": [
    "**Step7 [3 points]**\n",
    "\n",
    "Based on the above baseline tests and the client's requirements, **choose a performance metric** to use for evaluating/driving your machine learning methods.\n",
    "\n",
    "Choose the best metric of the five and assign to the variable below.\n",
    "* For AUC, use \"roc_auc\"\n",
    "* For recall, use \"recall\"\n",
    "* For precision, use \"precision\"\n",
    "* For F1 Score, use \"f1\"\n",
    "\n",
    "***NOTE:*** Not all the metrics are equally useful for meeting the requirements of the client, thereby, choose only the one most suitable metric."
   ]
  },
  {
   "cell_type": "code",
   "execution_count": 59,
   "metadata": {
    "tags": []
   },
   "outputs": [],
   "source": [
    "# Choose the best metric of the five and assign to the variable below. The variable takes a string.\n",
    "chosen_metric = \"roc_auc\"\n",
    "\n",
    "# The following code is used by the autograder\n",
    "step7_data = chosen_metric"
   ]
  },
  {
   "cell_type": "markdown",
   "metadata": {},
   "source": [
    "**Step8** [3 points]\n",
    "\n",
    "**Creating a SGD baseline**\n",
    "\n",
    "For a stronger baseline, **train the Stochastic Gradient Descent classifier (SGD) model** on the training data and evaluate it on the validation data (as seen in workshop 4). Use a Pipeline for this which considers the preprocessing and the SGD model. For this baseline case use the default settings for all the hyperparameters."
   ]
  },
  {
   "cell_type": "markdown",
   "metadata": {},
   "source": [
    "Build a pre-processing pipeline that includes imputation (as even though we don't strictly need it here it is a good habit to always include it) and other appropriate pre-processing. Create another pipeline for the SGD model which has preprocessing pipeline as the pre-processing part. Train the model and evaluate it on the validation data.   "
   ]
  },
  {
   "cell_type": "code",
   "execution_count": 60,
   "metadata": {
    "tags": []
   },
   "outputs": [
    {
     "name": "stdout",
     "output_type": "stream",
     "text": [
      "SGD validation score: 1.00000\n"
     ]
    }
   ],
   "source": [
    "from sklearn.pipeline import Pipeline\n",
    "from sklearn.preprocessing import StandardScaler\n",
    "from sklearn.impute import SimpleImputer\n",
    "from sklearn.linear_model import SGDClassifier\n",
    "\n",
    "# Create pre-processing pipeline\n",
    "preproc_pl = Pipeline([\n",
    "    ('imputer', SimpleImputer(strategy='mean')),\n",
    "    ('scaler', StandardScaler())\n",
    "])\n",
    "\n",
    "# Create SGD model pipeline which has preproc_pl as the pre-processing part\n",
    "sgd_base = Pipeline([\n",
    "    ('preproc', preproc_pl),\n",
    "    ('classifier', SGDClassifier())\n",
    "])\n",
    "\n",
    "# fit the SGD pipeline on the training data\n",
    "sgd_base.fit(X_train, y_train)\n",
    "\n",
    "# evaluate on the validation data\n",
    "val_score = sgd_base.score(X_val, y_val)\n",
    "print(f\"SGD validation score: {val_score:.5f}\")\n",
    "\n",
    "# The following code is used by the autograder.\n",
    "step8_data = sgd_base"
   ]
  },
  {
   "cell_type": "markdown",
   "metadata": {},
   "source": [
    "**Step9** [2 points]\n",
    "\n",
    "On the validation data, calculate and print or display the **normalized** version of the confusion matrix.  Given the normalized confusion matrix, **what is the _probability_ that a sample from a person with a malignant tumour is given a result that they do not have cancer?  Which of the client's two criteria does this relate to, and is this baseline satisfying this criterion or not?**"
   ]
  },
  {
   "cell_type": "code",
   "execution_count": 61,
   "metadata": {
    "tags": []
   },
   "outputs": [
    {
     "name": "stdout",
     "output_type": "stream",
     "text": [
      "Normalized confusion matrix:\n",
      " [[1. 0.]\n",
      " [0. 1.]]\n"
     ]
    }
   ],
   "source": [
    "from sklearn.metrics import confusion_matrix\n",
    "\n",
    "# Calculate confusion matrix\n",
    "cmat_raw = confusion_matrix(y_val, sgd_base.predict(X_val))\n",
    "\n",
    "# Normalize confusion matrix\n",
    "cmat = cmat_raw / cmat_raw.sum(axis=1)[:, np.newaxis]\n",
    "\n",
    "# Display or print cmat\n",
    "print(\"Normalized confusion matrix:\\n\", cmat)\n",
    "\n",
    "# Assign the required probability to the variable below\n",
    "# Probability that a sample from a person with a malignant tumor is given a result that they do not have cancer\n",
    "required_prob = cmat[1, 0]\n",
    "\n",
    "# Choose which of the client's two criteria does this relate to (1 or 2)\n",
    "criteria = 2\n",
    "\n",
    "# Does the baseline model satisfy this criterion? (\"YES\" or \"NO\")\n",
    "satisfy = \"YES\" if required_prob <= 0.05 else \"NO\"\n",
    "\n",
    "# The following code is used by the autograder.\n",
    "step9_data = cmat, required_prob\n"
   ]
  },
  {
   "cell_type": "markdown",
   "metadata": {},
   "source": [
    "### Main classifier \n",
    "\n",
    "In this part, you need to try different models for classification, check their performance and determine the best for the present scenario.\n",
    "\n",
    "Follow best practice as much as possible here. You must make all the choices and decisions yourself, and strike a balance between computation time and performance.\n",
    "\n",
    "You can use any of the sklearn functions used in workshops 3, 4, 5 and 6. Other hyper-parameter optimisation functions apart from these cannot be used (even if they are good and can be part of best practice in other situations - for this assignment everyone should assume they only have very limited computation resources and limit themselves to these functions). Hint: Use **GridSearchCV** to solve these steps.\n",
    "\n",
    "**Display the performance of the different classifiers and the optimised hyperparameters.**\n"
   ]
  },
  {
   "cell_type": "markdown",
   "metadata": {},
   "source": [
    "**Step10** [3 point]\n",
    "\n",
    "**Train and optimise the hyperparameters** to give the best performance for a **KNN (K-Nearest Neighbour)** classifier. For this model consider and  evaluate the following parameters:\n",
    "\n",
    "* n_neighbors (with no value greater than 20)\n",
    "* weights\n",
    "* algorithm\n",
    "* metric\n",
    "* p (with no value greater than 20)\n",
    "\n",
    "Read the documentation about this model to find some proper ranges and ensure that you use the pipeline created in Step8 to train this model. How to decide what are the best setting of parameters? -> use the best metric identified in the **Step7**."
   ]
  },
  {
   "cell_type": "code",
   "execution_count": 62,
   "metadata": {
    "tags": []
   },
   "outputs": [
    {
     "name": "stdout",
     "output_type": "stream",
     "text": [
      "Fitting 2 folds for each of 384 candidates, totalling 768 fits\n",
      "knn_best_parameters : {'classifier__algorithm': 'auto', 'classifier__metric': 'minkowski', 'classifier__n_neighbors': 2, 'classifier__p': 4, 'classifier__weights': 'distance'}\n"
     ]
    }
   ],
   "source": [
    "from sklearn.model_selection import GridSearchCV\n",
    "from sklearn.neighbors import KNeighborsClassifier\n",
    "\n",
    "# Write your solution here\n",
    "\n",
    "# Put the pipeline with the appropriate model\n",
    "knn_clf = KNeighborsClassifier()\n",
    "knn_pl = Pipeline(steps=[('preproc', preproc_pl), ('classifier', knn_clf)])\n",
    "\n",
    "# Set the parameters for GridSearchCV\n",
    "knn_params = {\n",
    "    'classifier__n_neighbors': list(range(1, 5)),\n",
    "    'classifier__weights': ['uniform', 'distance'],\n",
    "    'classifier__algorithm': ['auto', 'ball_tree', 'kd_tree', 'brute'],\n",
    "    'classifier__metric': ['euclidean', 'manhattan', 'minkowski'],\n",
    "    'classifier__p': list(range(1, 5))\n",
    "}\n",
    "\n",
    "\n",
    "# Use GridSearchCV here with cv=5, using the chosen_metric from Step 7\n",
    "knn_model = GridSearchCV(knn_pl, param_grid=knn_params, cv=2, scoring=step7_data, n_jobs=-1, verbose=1)\n",
    "knn_model.fit(X_train, y_train)\n",
    "\n",
    "print(f'knn_best_parameters : {knn_model.best_params_}') \n",
    "\n",
    "# Return best parameters in a dictionary\n",
    "knn_best_parameters = knn_model.best_params_\n",
    "\n",
    "# The following code is used by the autograder.\n",
    "step10_data = knn_model, knn_best_parameters, knn_pl"
   ]
  },
  {
   "cell_type": "markdown",
   "metadata": {},
   "source": [
    "**Step11** [2 points]\n",
    "\n",
    "**Train and optimise the hyperparameters** to give the best performance for a **Decision tree classifier** classifier. For this model consider and  evaluate the following parameters:\n",
    "\n",
    "* criterion\n",
    "* max_depth (with no value greater than 20)\n",
    "* min_samples_split (with no value greater than 20)\n",
    "* min_samples_leaf (with no value greater than 20)\n",
    "* max_features\n",
    "\n",
    "Read the documentation about this model to find some proper ranges and ensure that you use the pipeline created in Step8 to train this model. \n"
   ]
  },
  {
   "cell_type": "code",
   "execution_count": 63,
   "metadata": {
    "tags": []
   },
   "outputs": [
    {
     "name": "stdout",
     "output_type": "stream",
     "text": [
      "Fitting 5 folds for each of 384 candidates, totalling 1920 fits\n",
      "dt_best_parameters : {'classifier__criterion': 'gini', 'classifier__max_depth': 1, 'classifier__max_features': None, 'classifier__min_samples_leaf': 1, 'classifier__min_samples_split': 2}\n"
     ]
    }
   ],
   "source": [
    "from sklearn.tree import DecisionTreeClassifier\n",
    "from sklearn.model_selection import GridSearchCV\n",
    "\n",
    "# Put the pipeline with the appropriate model\n",
    "dt_pl = Pipeline([\n",
    "    ('preprocessing', preproc_pl),\n",
    "    ('classifier', DecisionTreeClassifier(random_state=42))\n",
    "])\n",
    "\n",
    "# Define the parameter grid for GridSearchCV\n",
    "dt_params = {\n",
    "    'classifier__criterion': ['gini', 'entropy'],\n",
    "    'classifier__max_depth': list(range(1, 5)),\n",
    "    'classifier__min_samples_split': list(range(2, 5)),\n",
    "    'classifier__min_samples_leaf': list(range(1, 5)),\n",
    "    'classifier__max_features': ['auto', 'sqrt', 'log2', None]\n",
    "}\n",
    "\n",
    "\n",
    "# Use GridSearchCV with cv=5\n",
    "dt_model = GridSearchCV(dt_pl, param_grid=dt_params, cv=5, scoring=step7_data, n_jobs=-1, verbose=1)\n",
    "dt_model.fit(X_train, y_train)\n",
    "\n",
    "print(f'dt_best_parameters : {dt_model.best_params_}')\n",
    "\n",
    "# Return best parameters in a dictionary\n",
    "dt_best_parameters = dt_model.best_params_\n",
    "\n",
    "# The following code is used by the autograder.\n",
    "step11_data = dt_model, dt_best_parameters, dt_pl"
   ]
  },
  {
   "cell_type": "markdown",
   "metadata": {},
   "source": [
    "**Step12** [2 points]\n",
    "\n",
    "**Train and optimise the hyperparameters** to give the best performance for a **C-Support Vector Classification** classifier. For this model consider and  evaluate the following parameters:\n",
    "\n",
    "* C. Regularization parameter (with no value greater than 100)\n",
    "* kernel\n",
    "* gamma\n",
    "\n",
    "Read the documentation about this model to find some proper ranges and ensure that you use the pipeline created in Step8 to train this model. "
   ]
  },
  {
   "cell_type": "code",
   "execution_count": 64,
   "metadata": {
    "tags": []
   },
   "outputs": [
    {
     "name": "stdout",
     "output_type": "stream",
     "text": [
      "Fitting 5 folds for each of 32 candidates, totalling 160 fits\n",
      "svc_best_parameters : {'classifier__C': 0.1, 'classifier__gamma': 'scale', 'classifier__kernel': 'linear'}\n"
     ]
    }
   ],
   "source": [
    "from sklearn.svm import SVC\n",
    "\n",
    "# Put the pipeline with the appropriate model\n",
    "svc_pl = Pipeline([\n",
    "    ('preprocessing', preproc_pl),\n",
    "    ('classifier', SVC(random_state=42))\n",
    "])\n",
    "\n",
    "# Define the parameter grid for GridSearchCV\n",
    "svc_params = {\n",
    "    'classifier__C': [0.1, 1, 10, 100],\n",
    "    'classifier__kernel': ['linear', 'poly', 'rbf', 'sigmoid'],\n",
    "    'classifier__gamma': ['scale', 'auto']\n",
    "}\n",
    "\n",
    "# Use GridSearchCV with cv=5\n",
    "svc_model = GridSearchCV(svc_pl, param_grid=svc_params, cv=5, scoring=step7_data, n_jobs=-1, verbose=1)\n",
    "svc_model.fit(X_train, y_train)\n",
    "\n",
    "print(f'svc_best_parameters : {svc_model.best_params_}')\n",
    "\n",
    "# Return best parameters in a dictionary\n",
    "svc_best_parameters = svc_model.best_params_\n",
    "\n",
    "# The following code is used by the autograder.\n",
    "step12_data = svc_model, svc_best_parameters, svc_pl"
   ]
  },
  {
   "cell_type": "markdown",
   "metadata": {},
   "source": [
    "**Step13** [2 points]\n",
    "\n",
    "**Train and optimise the hyperparameters** to give the best performance for a **SGD classifier** classifier. For this model consider and  evaluate the following parameters:\n",
    "\n",
    "* loss \n",
    "* penalty\n",
    "* alpha (with no value greater than 100)\n",
    "* learning_rate\n",
    "* eta0 (with no value greater than 100)\n",
    "\n",
    "Read the documentation about this model to find some proper ranges and ensure that you use the pipeline created in Step8 to train this model. "
   ]
  },
  {
   "cell_type": "code",
   "execution_count": 65,
   "metadata": {
    "tags": []
   },
   "outputs": [
    {
     "name": "stdout",
     "output_type": "stream",
     "text": [
      "Fitting 5 folds for each of 2100 candidates, totalling 10500 fits\n",
      "sgd_best_parameters : {'classifier__alpha': 0.0001, 'classifier__eta0': 0.01, 'classifier__learning_rate': 'constant', 'classifier__loss': 'hinge', 'classifier__penalty': 'l1'}\n"
     ]
    }
   ],
   "source": [
    "from sklearn.linear_model import SGDClassifier\n",
    "\n",
    "# Put the pipeline with the appropriate model\n",
    "sgd_pl = Pipeline([\n",
    "    ('preprocessing', preproc_pl),\n",
    "    ('classifier', SGDClassifier(random_state=42))\n",
    "])\n",
    "\n",
    "# Define the parameter grid for GridSearchCV\n",
    "sgd_params = {\n",
    "    'classifier__loss': ['hinge', 'log', 'modified_huber', 'squared_hinge', 'perceptron'],\n",
    "    'classifier__penalty': ['l1', 'l2', 'elasticnet'],\n",
    "    'classifier__alpha': [0.0001, 0.001, 0.01, 0.1, 1, 10, 100],\n",
    "    'classifier__learning_rate': ['constant', 'optimal', 'invscaling', 'adaptive'],\n",
    "    'classifier__eta0': [0.01, 0.1, 1, 10, 100]\n",
    "}\n",
    "\n",
    "# Use GridSearchCV with cv=5\n",
    "sgd_model = GridSearchCV(sgd_pl, param_grid=sgd_params, cv=5, scoring=step7_data, n_jobs=-1, verbose=1)\n",
    "sgd_model.fit(X_train, y_train)\n",
    "\n",
    "print(f'sgd_best_parameters : {sgd_model.best_params_}')\n",
    "\n",
    "# Return best parameters in a dictionary\n",
    "sgd_best_parameters = sgd_model.best_params_\n",
    "\n",
    "# The following code is used by the autograder.\n",
    "step13_data = sgd_model, sgd_best_parameters, sgd_pl"
   ]
  },
  {
   "cell_type": "markdown",
   "metadata": {},
   "source": [
    "**Step14** [2 points]\n",
    "\n",
    "Considering the previous results using **GridSearchCV** for each one of the main classifiers, retrieve the obtained score using the best parameters in each case. Also indicate which are the three **best** models. "
   ]
  },
  {
   "cell_type": "code",
   "execution_count": 66,
   "metadata": {
    "tags": []
   },
   "outputs": [
    {
     "name": "stdout",
     "output_type": "stream",
     "text": [
      "1.0\n",
      "1.0\n",
      "1.0\n",
      "1.0\n",
      "Best models: ['knn', 'dt', 'svc']\n"
     ]
    }
   ],
   "source": [
    "# Assign the best score for each model\n",
    "knn_best_cv_scoring = knn_model.best_score_\n",
    "dt_best_cv_scoring = dt_model.best_score_\n",
    "svc_best_cv_scoring = svc_model.best_score_\n",
    "sgd_best_cv_scoring = sgd_model.best_score_\n",
    "\n",
    "print(knn_best_cv_scoring)\n",
    "print(dt_best_cv_scoring)\n",
    "print(svc_best_cv_scoring)\n",
    "print(sgd_best_cv_scoring)\n",
    "\n",
    "# Create a dictionary with classifier names as keys and their best scores as values\n",
    "model_scores = {\n",
    "    'knn': knn_best_cv_scoring,\n",
    "    'dt': dt_best_cv_scoring,\n",
    "    'svc': svc_best_cv_scoring,\n",
    "    'sgd': sgd_best_cv_scoring\n",
    "}\n",
    "\n",
    "# Sort the dictionary by values (scores) in descending order\n",
    "sorted_model_scores = sorted(model_scores.items(), key=lambda x: x[1], reverse=True)\n",
    "\n",
    "# What are the three best models so far?\n",
    "best_models = [model[0] for model in sorted_model_scores[:3]]\n",
    "\n",
    "print(f\"Best models: {best_models}\")\n",
    "\n",
    "# The following code is used by the autograder.\n",
    "step14_data = best_models, knn_best_cv_scoring, dt_best_cv_scoring, svc_best_cv_scoring, sgd_best_cv_scoring"
   ]
  },
  {
   "cell_type": "markdown",
   "metadata": {},
   "source": [
    "**Step15** [0 points]\n",
    "\n",
    "Once you have performed the search of the best parameters for each one of these models, you can display the general performance of each model using the next function **plot_compare_classifier_score**. An example plot using the function provided would look like the following:\n",
    "\n",
    "<center><img src=\"scoring_curves.jpg\" width=900 alt=\"Example loss curve plot\"></center>"
   ]
  },
  {
   "cell_type": "code",
   "execution_count": 67,
   "metadata": {
    "tags": []
   },
   "outputs": [],
   "source": [
    "# Function to check the performance of each parameter.\n",
    "def pooled_var(stds):\n",
    "    # https://en.wikipedia.org/wiki/Pooled_variance#Pooled_standard_deviation\n",
    "    n = 5 # size of each group\n",
    "    return np.sqrt(sum((n-1)*(stds**2))/ len(stds)*(n-1))\n",
    "\n",
    "# Check the performance for each model (knn, dt, svc and sgd). Use plot_gridSearchCV_loss_curve() function.\n",
    "def plot_gridSearchCV_loss_curve(cv_results,grid_params,title):\n",
    "\n",
    "    df = pd.DataFrame(cv_results)\n",
    "    results = ['mean_test_score',\n",
    "               'mean_train_score',\n",
    "               'std_test_score',\n",
    "               'std_train_score']\n",
    "\n",
    "\n",
    "    fig, axes = plt.subplots(1, len(grid_params),\n",
    "                             figsize = (5*len(grid_params), 7),\n",
    "                             sharey='row')\n",
    "    axes[0].set_ylabel(\"Score\", fontsize=25)\n",
    "\n",
    "\n",
    "    for idx, (param_name, param_range) in enumerate(grid_params.items()):\n",
    "        grouped_df = df.groupby(f'param_{param_name}')[results]\\\n",
    "            .agg({'mean_train_score': 'mean',\n",
    "                  'mean_test_score': 'mean',\n",
    "                  'std_train_score': pooled_var,\n",
    "                  'std_test_score': pooled_var})\n",
    "\n",
    "        previous_group = df.groupby(f'param_{param_name}')[results]\n",
    "        axes[idx].set_xlabel(param_name, fontsize=30)\n",
    "        axes[idx].set_ylim(0.0, 1.1)\n",
    "        lw = 2\n",
    "        axes[idx].plot(param_range, grouped_df['mean_train_score'], label=\"Training score\",\n",
    "                    color=\"darkorange\", lw=lw)\n",
    "        axes[idx].fill_between(param_range,grouped_df['mean_train_score'] - grouped_df['std_train_score'],\n",
    "                        grouped_df['mean_train_score'] + grouped_df['std_train_score'], alpha=0.2,\n",
    "                        color=\"darkorange\", lw=lw)\n",
    "        axes[idx].plot(param_range, grouped_df['mean_test_score'], label=\"Cross-validation score\",\n",
    "                    color=\"navy\", lw=lw)\n",
    "        axes[idx].fill_between(param_range, grouped_df['mean_test_score'] - grouped_df['std_test_score'],\n",
    "                        grouped_df['mean_test_score'] + grouped_df['std_test_score'], alpha=0.2,\n",
    "                        color=\"navy\", lw=lw)\n",
    "\n",
    "    handles, labels = axes[0].get_legend_handles_labels()\n",
    "    fig.suptitle(f'{title} Validation curves', fontsize=30)\n",
    "    fig.legend(handles, labels, loc=8, ncol=2, fontsize=20)\n",
    "\n",
    "    fig.subplots_adjust(bottom=0.25, top=0.85)\n",
    "    plt.show()"
   ]
  },
  {
   "cell_type": "markdown",
   "metadata": {},
   "source": [
    "**Step16** [3 points]\n",
    "\n",
    "Having identified the best three models in Step 14, train them using their best parameters on the training data, and then make predictions on the validation set. Finally, calculate and display the following metrics for each case:\n",
    "\n",
    "* recall\n",
    "* precision\n",
    "* auc score\n",
    "* f1 score\n",
    "\n",
    "***HINT:*** Use the function you have created in Step5 to obtain the above metrics for each model."
   ]
  },
  {
   "cell_type": "code",
   "execution_count": 68,
   "metadata": {
    "tags": []
   },
   "outputs": [
    {
     "name": "stdout",
     "output_type": "stream",
     "text": [
      "KNN Metrics: (1.0, 1.0, 1.0, 1.0)\n",
      "Decision Tree Metrics: (1.0, 1.0, 1.0, 1.0)\n",
      "SVC Metrics: (1.0, 1.0, 1.0, 1.0)\n"
     ]
    }
   ],
   "source": [
    "# Train the best three models using the best parameters\n",
    "best_knn = knn_model.best_estimator_\n",
    "best_dt = dt_model.best_estimator_\n",
    "best_svc = svc_model.best_estimator_\n",
    "\n",
    "# Fit the models\n",
    "best_knn.fit(X_train, y_train)\n",
    "best_dt.fit(X_train, y_train)\n",
    "best_svc.fit(X_train, y_train)\n",
    "\n",
    "# Make predictions on the validation set\n",
    "predictions_model1 = best_knn.predict(X_val)\n",
    "predictions_model2 = best_dt.predict(X_val)\n",
    "predictions_model3 = best_svc.predict(X_val)\n",
    "\n",
    "# Calculate metrics using Step5 function\n",
    "metrics_model1 = calculate_metrics(y_val, predictions_model1)\n",
    "metrics_model2 = calculate_metrics(y_val, predictions_model2)\n",
    "metrics_model3 = calculate_metrics(y_val, predictions_model3)\n",
    "\n",
    "print(\"KNN Metrics:\", metrics_model1)\n",
    "print(\"Decision Tree Metrics:\", metrics_model2)\n",
    "print(\"SVC Metrics:\", metrics_model3)\n",
    "\n",
    "# The following code is used by the autograder.\n",
    "step16_data = [(predictions_model1, predictions_model2, predictions_model3),\n",
    "               (metrics_model1, metrics_model2, metrics_model3)]\n"
   ]
  },
  {
   "cell_type": "markdown",
   "metadata": {},
   "source": [
    "**Step17** [4 points]\n",
    "\n",
    "**Final performance**\n",
    "\n",
    "Choose the best model of the top 3 you obtained in **Step14**. Calculate and display an unbiased performance measure that you can present to the client."
   ]
  },
  {
   "cell_type": "code",
   "execution_count": 69,
   "metadata": {
    "tags": []
   },
   "outputs": [],
   "source": [
    "# Finding the best model for SVC\n",
    "param_grid = {'C': [0.1, 1, 10, 100], 'kernel': ['linear', 'rbf']}\n",
    "svc = SVC(random_state=42)\n",
    "\n",
    "grid_search_svc = GridSearchCV(svc, param_grid, scoring='f1', cv=5)\n",
    "grid_search_svc.fit(X_train, y_train)\n",
    "\n",
    "svc_best_model = grid_search_svc.best_estimator_\n",
    "svc_best_params = grid_search_svc.best_params_\n",
    "svc_best_cv_scoring = grid_search_svc.best_score_\n",
    "\n",
    "'''\n",
    "Assign the training features, training labels that you would use for this step to the variables\n",
    "below.\n",
    "'''\n",
    "X_train_final = X_train\n",
    "y_train_final = y_train\n",
    "\n",
    "# Assign the best model to the variable below and train it\n",
    "final_model = svc_best_model\n",
    "final_model.fit(X_train_final, y_train_final)\n",
    "\n",
    "# Assign the predictions made from your chosen best model for the unbiased estimate to the variable below.\n",
    "predictions_final_model = final_model.predict(X_val)\n",
    "\n",
    "# Choose a performance metric based on the client's requirement and assign the result to the variable below.\n",
    "chosen_performance_metric_result = f1_score(y_val, predictions_final_model)\n",
    "\n",
    "# The following code is used by the autograder\n",
    "step17_data = (predictions_final_model, chosen_performance_metric_result, X_train_final, y_train_final, final_model)"
   ]
  },
  {
   "cell_type": "markdown",
   "metadata": {},
   "source": [
    "**Step18** [3 points]\n",
    "\n",
    "**Rank features**\n",
    "\n",
    "Although it is only possible to know the true usefulness of a feature when you've combined it with others in a machine learning method, it is still helpful to have some measure for how discriminative each feature is on its own.  One common method for doing this is to calculate a *T-score* (often used in statistics, and in the **LDA** machine learning method) for each feature. The formula for the *T-score* is \n",
    "\n",
    "$$\n",
    "  T_{score} =  \\frac{(mean(x_{2}) - mean(x_{1}))}{0.5(stddev(x_{2}) + stddev(x_{1}))}\n",
    "$$\n",
    "\n",
    "where $x_{1}$ and $x_{2}$ are the datasets corresponding to the two classes. Large values for the *T-score* (either positive or negative) indicate discriminative ability. Define a function which returns this *T-score*. For this process use the entire dataset.\n",
    "\n",
    "**Using the defined function, calculate the *T-score* for each feature and obtain the best 4 features according to this score.**"
   ]
  },
  {
   "cell_type": "code",
   "execution_count": 70,
   "metadata": {
    "tags": []
   },
   "outputs": [],
   "source": [
    "# Implement this function to calculate T score\n",
    "def calculate_t_score(x1, x2):\n",
    "    n1 = len(x1)\n",
    "    n2 = len(x2)\n",
    "    mean_diff = np.mean(x2) - np.mean(x1)\n",
    "    pooled_std_dev = np.sqrt((np.var(x2) * n2 + np.var(x1) * n1) / (n1 + n2 - 2))\n",
    "    epsilon = 1e-10  # Add a small constant to avoid division by zero\n",
    "    t_score = mean_diff / (np.sqrt((pooled_std_dev ** 2 / n2) + (pooled_std_dev ** 2 / n1)) + epsilon)\n",
    "    return t_score\n",
    "\n",
    "\n",
    "# Split the training data into two datasets corresponding to the two classes\n",
    "class_0 = X_train[y_train == 0]\n",
    "class_1 = X_train[y_train == 1]\n",
    "\n",
    "# Calculate the T score for each feature\n",
    "t_scores = []\n",
    "for feature in X_train.columns:\n",
    "    t_score = calculate_t_score(class_0[feature], class_1[feature])\n",
    "    t_scores.append((feature, t_score))\n",
    "\n",
    "# Sort the features by their T score (descending order) and get the top 4\n",
    "sorted_features = sorted(t_scores, key=lambda x: abs(x[1]), reverse=True)\n",
    "best_four_features = [feature[0] for feature in sorted_features[:4]]\n",
    "\n",
    "# The following code is used by the autograder.\n",
    "step18_data = best_four_features.copy()\n"
   ]
  },
  {
   "cell_type": "markdown",
   "metadata": {},
   "source": [
    "**Step19 [2 points]**\n",
    "\n",
    "You can visualize the results given by your model using a decision boundary. For this step, use the best two features (based on the previos step) and create a decision boundary plot. For this, use the best model obtained from Step17. The visualization of decision boundaries should be done using `DecisionBoundaryDisplay` from sklearn.inspection."
   ]
  },
  {
   "cell_type": "code",
   "execution_count": 84,
   "metadata": {
    "tags": []
   },
   "outputs": [
    {
     "name": "stderr",
     "output_type": "stream",
     "text": [
      "C:\\Users\\sptro\\anaconda3\\lib\\site-packages\\sklearn\\base.py:450: UserWarning: X does not have valid feature names, but SVC was fitted with feature names\n",
      "  warnings.warn(\n"
     ]
    },
    {
     "data": {
      "image/png": "[encoded data removed]",
      "text/plain": [
       "<Figure size 1536x1152 with 1 Axes>"
      ]
     },
     "metadata": {},
     "output_type": "display_data"
    }
   ],
   "source": [
    "import numpy as np\n",
    "import matplotlib.pyplot as plt\n",
    "\n",
    "# Assign the name of the best feature obtained in step18 to the variable below. (string)\n",
    "feature_one = best_four_features[0]\n",
    "\n",
    "# Assign the name of the second best feature obtained in step18 to the variable below. (string)\n",
    "feature_two = best_four_features[1]\n",
    "\n",
    "# Assign the training dataset that you would want to use for this step to the variable below\n",
    "data2d = X_train[[feature_one, feature_two]]\n",
    "\n",
    "# Fit the final model on the 2D dataset\n",
    "final_model.fit(data2d, y_train)\n",
    "\n",
    "def plot_decision_boundary(model, X, y, feature_one, feature_two):\n",
    "    h = 0.02\n",
    "    x_min, x_max = X[feature_one].min() - 1, X[feature_one].max() + 1\n",
    "    y_min, y_max = X[feature_two].min() - 1, X[feature_two].max() + 1\n",
    "    xx, yy = np.meshgrid(np.arange(x_min, x_max, h),\n",
    "                         np.arange(y_min, y_max, h))\n",
    "\n",
    "    Z = model.predict(np.c_[xx.ravel(), yy.ravel()])\n",
    "    Z = Z.reshape(xx.shape)\n",
    "\n",
    "    plt.contourf(xx, yy, Z, cmap=plt.cm.coolwarm, alpha=0.8)\n",
    "    plt.scatter(X[feature_one], X[feature_two], c=y, edgecolors='k', marker='o', s=50, cmap=plt.cm.coolwarm)\n",
    "    plt.xlim(X[feature_one].min() - 0.5, X[feature_one].max() + 0.5)\n",
    "    plt.ylim(X[feature_two].min() - 0.5, X[feature_two].max() + 0.5)\n",
    "    plt.title(f\"Decision surface for tree trained on {feature_one} and {feature_two}\")\n",
    "\n",
    "# Call the function to create the decision boundary plot\n",
    "# Comment out the following lines before uploading to gradescope\n",
    "plot_decision_boundary(final_model, data2d, y_train, feature_one, feature_two)\n",
    "plt.show()\n",
    "\n",
    "# The following line of code is used by the autograder\n",
    "step19_data = feature_one, feature_two, data2d\n"
   ]
  },
  {
   "cell_type": "markdown",
   "metadata": {},
   "source": [
    "## Second Round\n",
    "\n",
    "After presenting your initial results to the client they come back to you and say that they have done some financial analysis and it would save them a lot of time and money if they did not have to analyse every cell, which is needed to get the \"worst\" features. Instead, they can quickly get accurate estimates for the \"mean\" and \"standard error\" features from a much smaller, randomly selected set of cells.\n",
    "\n",
    "They ask you to **give them a performance estimate for the same problem, but without using any of the \"worst\" features.**"
   ]
  },
  {
   "cell_type": "markdown",
   "metadata": {},
   "source": [
    "**Step20** [2 points]\n",
    "\n",
    "Create a new dataset according to the specifications of the client in round 2. After that, split the data appropriately."
   ]
  },
  {
   "cell_type": "code",
   "execution_count": 85,
   "metadata": {
    "tags": []
   },
   "outputs": [
    {
     "ename": "FileNotFoundError",
     "evalue": "[Errno 2] No such file or directory: 'data.csv'",
     "output_type": "error",
     "traceback": [
      "\u001b[1;31m---------------------------------------------------------------------------\u001b[0m",
      "\u001b[1;31mFileNotFoundError\u001b[0m                         Traceback (most recent call last)",
      "\u001b[1;32m~\\AppData\\Local\\Temp\\ipykernel_22804\\2521583849.py\u001b[0m in \u001b[0;36m<module>\u001b[1;34m\u001b[0m\n\u001b[0;32m      1\u001b[0m \u001b[1;31m# Load the dataset\u001b[0m\u001b[1;33m\u001b[0m\u001b[1;33m\u001b[0m\u001b[0m\n\u001b[1;32m----> 2\u001b[1;33m \u001b[0mdata\u001b[0m \u001b[1;33m=\u001b[0m \u001b[0mpd\u001b[0m\u001b[1;33m.\u001b[0m\u001b[0mread_csv\u001b[0m\u001b[1;33m(\u001b[0m\u001b[1;34m\"data.csv\"\u001b[0m\u001b[1;33m)\u001b[0m\u001b[1;33m\u001b[0m\u001b[1;33m\u001b[0m\u001b[0m\n\u001b[0m\u001b[0;32m      3\u001b[0m \u001b[1;33m\u001b[0m\u001b[0m\n\u001b[0;32m      4\u001b[0m \u001b[1;31m# Remove the \"worst\" features\u001b[0m\u001b[1;33m\u001b[0m\u001b[1;33m\u001b[0m\u001b[0m\n\u001b[0;32m      5\u001b[0m \u001b[0mdata_r2\u001b[0m \u001b[1;33m=\u001b[0m \u001b[0mdata\u001b[0m\u001b[1;33m.\u001b[0m\u001b[0mdrop\u001b[0m\u001b[1;33m(\u001b[0m\u001b[0mcolumns\u001b[0m\u001b[1;33m=\u001b[0m\u001b[0mdata\u001b[0m\u001b[1;33m.\u001b[0m\u001b[0mfilter\u001b[0m\u001b[1;33m(\u001b[0m\u001b[0mregex\u001b[0m\u001b[1;33m=\u001b[0m\u001b[1;34m\"worst\"\u001b[0m\u001b[1;33m)\u001b[0m\u001b[1;33m.\u001b[0m\u001b[0mcolumns\u001b[0m\u001b[1;33m)\u001b[0m\u001b[1;33m\u001b[0m\u001b[1;33m\u001b[0m\u001b[0m\n",
      "\u001b[1;32m~\\anaconda3\\lib\\site-packages\\pandas\\util\\_decorators.py\u001b[0m in \u001b[0;36mwrapper\u001b[1;34m(*args, **kwargs)\u001b[0m\n\u001b[0;32m    309\u001b[0m                     \u001b[0mstacklevel\u001b[0m\u001b[1;33m=\u001b[0m\u001b[0mstacklevel\u001b[0m\u001b[1;33m,\u001b[0m\u001b[1;33m\u001b[0m\u001b[1;33m\u001b[0m\u001b[0m\n\u001b[0;32m    310\u001b[0m                 )\n\u001b[1;32m--> 311\u001b[1;33m             \u001b[1;32mreturn\u001b[0m \u001b[0mfunc\u001b[0m\u001b[1;33m(\u001b[0m\u001b[1;33m*\u001b[0m\u001b[0margs\u001b[0m\u001b[1;33m,\u001b[0m \u001b[1;33m**\u001b[0m\u001b[0mkwargs\u001b[0m\u001b[1;33m)\u001b[0m\u001b[1;33m\u001b[0m\u001b[1;33m\u001b[0m\u001b[0m\n\u001b[0m\u001b[0;32m    312\u001b[0m \u001b[1;33m\u001b[0m\u001b[0m\n\u001b[0;32m    313\u001b[0m         \u001b[1;32mreturn\u001b[0m \u001b[0mwrapper\u001b[0m\u001b[1;33m\u001b[0m\u001b[1;33m\u001b[0m\u001b[0m\n",
      "\u001b[1;32m~\\anaconda3\\lib\\site-packages\\pandas\\io\\parsers\\readers.py\u001b[0m in \u001b[0;36mread_csv\u001b[1;34m(filepath_or_buffer, sep, delimiter, header, names, index_col, usecols, squeeze, prefix, mangle_dupe_cols, dtype, engine, converters, true_values, false_values, skipinitialspace, skiprows, skipfooter, nrows, na_values, keep_default_na, na_filter, verbose, skip_blank_lines, parse_dates, infer_datetime_format, keep_date_col, date_parser, dayfirst, cache_dates, iterator, chunksize, compression, thousands, decimal, lineterminator, quotechar, quoting, doublequote, escapechar, comment, encoding, encoding_errors, dialect, error_bad_lines, warn_bad_lines, on_bad_lines, delim_whitespace, low_memory, memory_map, float_precision, storage_options)\u001b[0m\n\u001b[0;32m    676\u001b[0m     \u001b[0mkwds\u001b[0m\u001b[1;33m.\u001b[0m\u001b[0mupdate\u001b[0m\u001b[1;33m(\u001b[0m\u001b[0mkwds_defaults\u001b[0m\u001b[1;33m)\u001b[0m\u001b[1;33m\u001b[0m\u001b[1;33m\u001b[0m\u001b[0m\n\u001b[0;32m    677\u001b[0m \u001b[1;33m\u001b[0m\u001b[0m\n\u001b[1;32m--> 678\u001b[1;33m     \u001b[1;32mreturn\u001b[0m \u001b[0m_read\u001b[0m\u001b[1;33m(\u001b[0m\u001b[0mfilepath_or_buffer\u001b[0m\u001b[1;33m,\u001b[0m \u001b[0mkwds\u001b[0m\u001b[1;33m)\u001b[0m\u001b[1;33m\u001b[0m\u001b[1;33m\u001b[0m\u001b[0m\n\u001b[0m\u001b[0;32m    679\u001b[0m \u001b[1;33m\u001b[0m\u001b[0m\n\u001b[0;32m    680\u001b[0m \u001b[1;33m\u001b[0m\u001b[0m\n",
      "\u001b[1;32m~\\anaconda3\\lib\\site-packages\\pandas\\io\\parsers\\readers.py\u001b[0m in \u001b[0;36m_read\u001b[1;34m(filepath_or_buffer, kwds)\u001b[0m\n\u001b[0;32m    573\u001b[0m \u001b[1;33m\u001b[0m\u001b[0m\n\u001b[0;32m    574\u001b[0m     \u001b[1;31m# Create the parser.\u001b[0m\u001b[1;33m\u001b[0m\u001b[1;33m\u001b[0m\u001b[0m\n\u001b[1;32m--> 575\u001b[1;33m     \u001b[0mparser\u001b[0m \u001b[1;33m=\u001b[0m \u001b[0mTextFileReader\u001b[0m\u001b[1;33m(\u001b[0m\u001b[0mfilepath_or_buffer\u001b[0m\u001b[1;33m,\u001b[0m \u001b[1;33m**\u001b[0m\u001b[0mkwds\u001b[0m\u001b[1;33m)\u001b[0m\u001b[1;33m\u001b[0m\u001b[1;33m\u001b[0m\u001b[0m\n\u001b[0m\u001b[0;32m    576\u001b[0m \u001b[1;33m\u001b[0m\u001b[0m\n\u001b[0;32m    577\u001b[0m     \u001b[1;32mif\u001b[0m \u001b[0mchunksize\u001b[0m \u001b[1;32mor\u001b[0m \u001b[0miterator\u001b[0m\u001b[1;33m:\u001b[0m\u001b[1;33m\u001b[0m\u001b[1;33m\u001b[0m\u001b[0m\n",
      "\u001b[1;32m~\\anaconda3\\lib\\site-packages\\pandas\\io\\parsers\\readers.py\u001b[0m in \u001b[0;36m__init__\u001b[1;34m(self, f, engine, **kwds)\u001b[0m\n\u001b[0;32m    930\u001b[0m \u001b[1;33m\u001b[0m\u001b[0m\n\u001b[0;32m    931\u001b[0m         \u001b[0mself\u001b[0m\u001b[1;33m.\u001b[0m\u001b[0mhandles\u001b[0m\u001b[1;33m:\u001b[0m \u001b[0mIOHandles\u001b[0m \u001b[1;33m|\u001b[0m \u001b[1;32mNone\u001b[0m \u001b[1;33m=\u001b[0m \u001b[1;32mNone\u001b[0m\u001b[1;33m\u001b[0m\u001b[1;33m\u001b[0m\u001b[0m\n\u001b[1;32m--> 932\u001b[1;33m         \u001b[0mself\u001b[0m\u001b[1;33m.\u001b[0m\u001b[0m_engine\u001b[0m \u001b[1;33m=\u001b[0m \u001b[0mself\u001b[0m\u001b[1;33m.\u001b[0m\u001b[0m_make_engine\u001b[0m\u001b[1;33m(\u001b[0m\u001b[0mf\u001b[0m\u001b[1;33m,\u001b[0m \u001b[0mself\u001b[0m\u001b[1;33m.\u001b[0m\u001b[0mengine\u001b[0m\u001b[1;33m)\u001b[0m\u001b[1;33m\u001b[0m\u001b[1;33m\u001b[0m\u001b[0m\n\u001b[0m\u001b[0;32m    933\u001b[0m \u001b[1;33m\u001b[0m\u001b[0m\n\u001b[0;32m    934\u001b[0m     \u001b[1;32mdef\u001b[0m \u001b[0mclose\u001b[0m\u001b[1;33m(\u001b[0m\u001b[0mself\u001b[0m\u001b[1;33m)\u001b[0m\u001b[1;33m:\u001b[0m\u001b[1;33m\u001b[0m\u001b[1;33m\u001b[0m\u001b[0m\n",
      "\u001b[1;32m~\\anaconda3\\lib\\site-packages\\pandas\\io\\parsers\\readers.py\u001b[0m in \u001b[0;36m_make_engine\u001b[1;34m(self, f, engine)\u001b[0m\n\u001b[0;32m   1214\u001b[0m             \u001b[1;31m# \"Union[str, PathLike[str], ReadCsvBuffer[bytes], ReadCsvBuffer[str]]\"\u001b[0m\u001b[1;33m\u001b[0m\u001b[1;33m\u001b[0m\u001b[0m\n\u001b[0;32m   1215\u001b[0m             \u001b[1;31m# , \"str\", \"bool\", \"Any\", \"Any\", \"Any\", \"Any\", \"Any\"\u001b[0m\u001b[1;33m\u001b[0m\u001b[1;33m\u001b[0m\u001b[0m\n\u001b[1;32m-> 1216\u001b[1;33m             self.handles = get_handle(  # type: ignore[call-overload]\n\u001b[0m\u001b[0;32m   1217\u001b[0m                 \u001b[0mf\u001b[0m\u001b[1;33m,\u001b[0m\u001b[1;33m\u001b[0m\u001b[1;33m\u001b[0m\u001b[0m\n\u001b[0;32m   1218\u001b[0m                 \u001b[0mmode\u001b[0m\u001b[1;33m,\u001b[0m\u001b[1;33m\u001b[0m\u001b[1;33m\u001b[0m\u001b[0m\n",
      "\u001b[1;32m~\\anaconda3\\lib\\site-packages\\pandas\\io\\common.py\u001b[0m in \u001b[0;36mget_handle\u001b[1;34m(path_or_buf, mode, encoding, compression, memory_map, is_text, errors, storage_options)\u001b[0m\n\u001b[0;32m    784\u001b[0m         \u001b[1;32mif\u001b[0m \u001b[0mioargs\u001b[0m\u001b[1;33m.\u001b[0m\u001b[0mencoding\u001b[0m \u001b[1;32mand\u001b[0m \u001b[1;34m\"b\"\u001b[0m \u001b[1;32mnot\u001b[0m \u001b[1;32min\u001b[0m \u001b[0mioargs\u001b[0m\u001b[1;33m.\u001b[0m\u001b[0mmode\u001b[0m\u001b[1;33m:\u001b[0m\u001b[1;33m\u001b[0m\u001b[1;33m\u001b[0m\u001b[0m\n\u001b[0;32m    785\u001b[0m             \u001b[1;31m# Encoding\u001b[0m\u001b[1;33m\u001b[0m\u001b[1;33m\u001b[0m\u001b[0m\n\u001b[1;32m--> 786\u001b[1;33m             handle = open(\n\u001b[0m\u001b[0;32m    787\u001b[0m                 \u001b[0mhandle\u001b[0m\u001b[1;33m,\u001b[0m\u001b[1;33m\u001b[0m\u001b[1;33m\u001b[0m\u001b[0m\n\u001b[0;32m    788\u001b[0m                 \u001b[0mioargs\u001b[0m\u001b[1;33m.\u001b[0m\u001b[0mmode\u001b[0m\u001b[1;33m,\u001b[0m\u001b[1;33m\u001b[0m\u001b[1;33m\u001b[0m\u001b[0m\n",
      "\u001b[1;31mFileNotFoundError\u001b[0m: [Errno 2] No such file or directory: 'data.csv'"
     ]
    }
   ],
   "source": [
    "# Load the dataset\n",
    "data = pd.read_csv(\"data.csv\")\n",
    "\n",
    "# Remove the \"worst\" features\n",
    "data_r2 = data.drop(columns=data.filter(regex=\"worst\").columns)\n",
    "\n",
    "# Split the data into training and test sets (80-20)\n",
    "train_data_r2, test_data_r2 = train_test_split(data_r2, test_size=0.2, random_state=42)\n",
    "\n",
    "# Split the training data into training and validation sets (80-20)\n",
    "train_data_r2, val_data_r2 = train_test_split(train_data_r2, test_size=0.2, random_state=42)\n",
    "\n",
    "# Assign the data to each variable appropriately\n",
    "X_train_r2 = train_data_r2.drop(columns=[\"id\", \"diagnosis\"])\n",
    "y_train_r2 = train_data_r2[\"diagnosis\"]\n",
    "\n",
    "X_test_r2 = test_data_r2.drop(columns=[\"id\", \"diagnosis\"])\n",
    "y_test_r2 = test_data_r2[\"diagnosis\"]\n",
    "\n",
    "X_val_r2 = val_data_r2.drop(columns=[\"id\", \"diagnosis\"])\n",
    "y_val_r2 = val_data_r2[\"diagnosis\"]\n",
    "\n",
    "# Print the size of each resulting subset\n",
    "print(\"Training set size (second round):\", len(X_train_r2))\n",
    "print(\"Validation set size (second round):\", len(X_val_r2))\n",
    "print(\"Test set size (second round):\", len(X_test_r2))\n",
    "\n",
    "# The following code is used by the autograder\n",
    "step20_data = [X_train_r2.shape, X_val_r2.shape, X_test_r2.shape]\n"
   ]
  },
  {
   "cell_type": "markdown",
   "metadata": {},
   "source": [
    "**Step21** [3 points]\n",
    "\n",
    "Train the best model obtained in the first round on the new dataset and find the best parameters."
   ]
  },
  {
   "cell_type": "code",
   "execution_count": null,
   "metadata": {
    "tags": []
   },
   "outputs": [],
   "source": [
    "# Assign the GridSearchCV instance you have obtained in this step to the variable below.\n",
    "final_model_r2 = ...\n",
    "print(f'best_parameters_r2: {final_model_r2.best_params_}')\n",
    "\n",
    "# Assign the best parameter dictionary to the variable below.\n",
    "best_parameters_r2 = ...\n",
    "\n",
    "# The following code is used by the autograder.\n",
    "step21_data = final_model_r2, best_parameters_r2"
   ]
  },
  {
   "cell_type": "markdown",
   "metadata": {},
   "source": [
    "**Step22** [3 points]\n",
    "\n",
    "Considering the best parameters identified in the previous step, train your best model using those parameters and calculate and display an unbiased performance measure."
   ]
  },
  {
   "cell_type": "code",
   "execution_count": null,
   "metadata": {
    "tags": []
   },
   "outputs": [],
   "source": [
    "\n",
    "'''\n",
    "Assign the training features, training labels that you would use for this step to the variables\n",
    "below.\n",
    "''' \n",
    "X_train_final_r2 = ...\n",
    "y_train_final_r2 = ...\n",
    "\n",
    "# Assign the best model you have trained again in order to get an unbiased performance estimate.\n",
    "final_model_r2 = ...\n",
    "\n",
    "# Assign the predictions made from your chosen best model for the unbiased estimate to the variable below.\n",
    "predictions_final_model_r2 = ...\n",
    "\n",
    "# Choose a performance metric based on the client's requirement and assign the result to the variable below.\n",
    "performance_metric_result_r2 = ...\n",
    "\n",
    "# The following code is used by the autograder\n",
    "step22_data = (predictions_final_model_r2, performance_metric_result_r2,X_train_final_r2, y_train_final_r2,final_model_r2)"
   ]
  },
  {
   "cell_type": "markdown",
   "metadata": {},
   "source": [
    "**Step23** [2 points]\n",
    "\n",
    "For this step you need to compare the final performance obtained in round 1 with the performance given in round 2. Don't run your models again, use the results from step17 and step22."
   ]
  },
  {
   "cell_type": "code",
   "execution_count": null,
   "metadata": {
    "tags": []
   },
   "outputs": [],
   "source": [
    "# Final performance for 2nd round\n",
    "final_performance_r1 = ...\n",
    "\n",
    "# Final performance for 2nd round\n",
    "final_performance_r2 = ...\n",
    "\n",
    "# What is your best model, \"r1\" or \"r2\". Put your answer in the variable final_answer (example: final_answer = \"r2\")\n",
    "final_answer = ...\n",
    "\n",
    "# The following code is used by the autograder\n",
    "step23_data = (final_performance_r1, final_performance_r2,final_answer)"
   ]
  },
  {
   "cell_type": "markdown",
   "metadata": {},
   "source": [
    "**Step24** [3 points]\n",
    "\n",
    "Once you have gone through the rigorous process of testing and evaluating different models with various parameters and in diverse circumstances, you now have a robust model capable of generalizing well to unseen data.\n",
    "\n",
    "The client has provided data about a new patient in a table format, and is expecting you to make a prediction about the person's condition as soon as possible. The following table contains the information provided by the client.\n",
    "\n",
    "| Characteristic | Value |\n",
    "| --- | --- |\n",
    "| mean radius |13.970546 | \n",
    "| mean texture|15.660529 | \n",
    "| mean perimeter | 91.432976| \n",
    "| mean area |600.575775 | \n",
    "| mean smoothness |0.099883 | \n",
    "| mean compactness | NaN| \n",
    "| mean concavity | 0.07505| \n",
    "| mean concave points | 0.023223| \n",
    "| mean symmetry | 0.186472| \n",
    "| mean fractal dimension | 0.05446|\n",
    "| radius error | 0.321022 | \n",
    "| texture error |1.044633 | \n",
    "| perimeter error |2.324773 | \n",
    "| area error |31.333479 | \n",
    "| smoothness error | 0.005675| \n",
    "| compactness error |0.023401 | \n",
    "| concavity error |0.026742 | \n",
    "| concave points error |0.009808 | \n",
    "| symmetry error | 0.029254| \n",
    "| fractal dimension error |0.00325 |\n",
    "| worst radius |12.728135 | \n",
    "| worst texture | 23.476671| \n",
    "| worst perimeter |103.834522 | \n",
    "| worst area | 798.832368| \n",
    "| worst smoothness |0.130751 | \n",
    "| worst compactness |0.264469 | \n",
    "| worst concavity |0.247665 | \n",
    "| worst concave points | 0.100153| \n",
    "| worst symmetry |0.301228 | \n",
    "| worst fractal dimension |0.083051 |  \n",
    "\n",
    "Your goal is to inform the client whether the sample corresponds to a benign or malignant case. Provide the class and also the probability that the sample belongs to the malignant class.\n",
    "\n",
    "Note: If your best model corresponds to SGD using loss='perceptron', you can use decision_function instead of predict_proba to obtain the confidence score for your sample instead of the probability of belonging to the malignant class. Refer to the documentation of SGDClassifier for more information on this case."
   ]
  },
  {
   "cell_type": "code",
   "execution_count": null,
   "metadata": {
    "tags": []
   },
   "outputs": [],
   "source": [
    "# Put your new data in form of a dataframe\n",
    "new_sample = ...\n",
    "# Print the data\n",
    "print(new_sample)\n",
    "\n",
    "# Use the best model to predict. \n",
    "\n",
    "# Prediction of the class. You need to say if the sample is bening or malignant (\"malignant\" or \"benign\")\n",
    "prediction_sample = ...\n",
    "\n",
    "# Probability or confidence score of the sample belonging to the malignant class\n",
    "probability_sample = ...\n",
    "\n",
    "# Print your results\n",
    "print(\"The class for this sample is \", prediction_sample)\n",
    "\n",
    "# NOTE: in the case of SGD, Confidence score values will not be bounded within 0 and 1.\n",
    "print(\"The probability / confidence score of belonging to malignant class is \", probability_sample)\n",
    "\n",
    "# The following code is used by the autograder\n",
    "step24_data = (new_sample,prediction_sample, probability_sample)"
   ]
  }
 ],
 "metadata": {
  "kernelspec": {
   "display_name": "Python 3 (ipykernel)",
   "language": "python",
   "name": "python3"
  },
  "language_info": {
   "codemirror_mode": {
    "name": "ipython",
    "version": 3
   },
   "file_extension": ".py",
   "mimetype": "text/x-python",
   "name": "python",
   "nbconvert_exporter": "python",
   "pygments_lexer": "ipython3",
   "version": "3.9.13"
  },
  "otter": {
   "OK_FORMAT": true,
   "tests": {
    "step01": {
     "name": "step01",
     "points": 1,
     "suites": [
      {
       "cases": [],
       "scored": true,
       "setup": "",
       "teardown": "",
       "type": "doctest"
      }
     ]
    },
    "step02": {
     "name": "step02",
     "points": 3,
     "suites": [
      {
       "cases": [],
       "scored": true,
       "setup": "",
       "teardown": "",
       "type": "doctest"
      }
     ]
    },
    "step03": {
     "name": "step03",
     "points": 3,
     "suites": [
      {
       "cases": [],
       "scored": true,
       "setup": "",
       "teardown": "",
       "type": "doctest"
      }
     ]
    },
    "step04": {
     "name": "step04",
     "points": 4,
     "suites": [
      {
       "cases": [],
       "scored": true,
       "setup": "",
       "teardown": "",
       "type": "doctest"
      }
     ]
    },
    "step05": {
     "name": "step05",
     "points": 2,
     "suites": [
      {
       "cases": [],
       "scored": true,
       "setup": "",
       "teardown": "",
       "type": "doctest"
      }
     ]
    },
    "step06": {
     "name": "step06",
     "points": 3,
     "suites": [
      {
       "cases": [],
       "scored": true,
       "setup": "",
       "teardown": "",
       "type": "doctest"
      }
     ]
    },
    "step07": {
     "name": "step07",
     "points": 3,
     "suites": [
      {
       "cases": [],
       "scored": true,
       "setup": "",
       "teardown": "",
       "type": "doctest"
      }
     ]
    },
    "step08": {
     "name": "step08",
     "points": 3,
     "suites": [
      {
       "cases": [],
       "scored": true,
       "setup": "",
       "teardown": "",
       "type": "doctest"
      }
     ]
    },
    "step09": {
     "name": "step09",
     "points": 2,
     "suites": [
      {
       "cases": [],
       "scored": true,
       "setup": "",
       "teardown": "",
       "type": "doctest"
      }
     ]
    },
    "step10": {
     "name": "step10",
     "points": 3,
     "suites": [
      {
       "cases": [],
       "scored": true,
       "setup": "",
       "teardown": "",
       "type": "doctest"
      }
     ]
    },
    "step11": {
     "name": "step11",
     "points": 2,
     "suites": [
      {
       "cases": [],
       "scored": true,
       "setup": "",
       "teardown": "",
       "type": "doctest"
      }
     ]
    },
    "step12": {
     "name": "step12",
     "points": 2,
     "suites": [
      {
       "cases": [],
       "scored": true,
       "setup": "",
       "teardown": "",
       "type": "doctest"
      }
     ]
    },
    "step13": {
     "name": "step13",
     "points": 2,
     "suites": [
      {
       "cases": [],
       "scored": true,
       "setup": "",
       "teardown": "",
       "type": "doctest"
      }
     ]
    },
    "step14": {
     "name": "step14",
     "points": 2,
     "suites": [
      {
       "cases": [],
       "scored": true,
       "setup": "",
       "teardown": "",
       "type": "doctest"
      }
     ]
    },
    "step15": {
     "name": "step15",
     "points": 0,
     "suites": [
      {
       "cases": [],
       "scored": true,
       "setup": "",
       "teardown": "",
       "type": "doctest"
      }
     ]
    },
    "step16": {
     "name": "step16",
     "points": 3,
     "suites": [
      {
       "cases": [],
       "scored": true,
       "setup": "",
       "teardown": "",
       "type": "doctest"
      }
     ]
    },
    "step17": {
     "name": "step17",
     "points": 4,
     "suites": [
      {
       "cases": [],
       "scored": true,
       "setup": "",
       "teardown": "",
       "type": "doctest"
      }
     ]
    },
    "step18": {
     "name": "step18",
     "points": 3,
     "suites": [
      {
       "cases": [],
       "scored": true,
       "setup": "",
       "teardown": "",
       "type": "doctest"
      }
     ]
    },
    "step19": {
     "name": "step19",
     "points": 2,
     "suites": [
      {
       "cases": [],
       "scored": true,
       "setup": "",
       "teardown": "",
       "type": "doctest"
      }
     ]
    },
    "step20": {
     "name": "step20",
     "points": 2,
     "suites": [
      {
       "cases": [],
       "scored": true,
       "setup": "",
       "teardown": "",
       "type": "doctest"
      }
     ]
    },
    "step21": {
     "name": "step21",
     "points": 3,
     "suites": [
      {
       "cases": [],
       "scored": true,
       "setup": "",
       "teardown": "",
       "type": "doctest"
      }
     ]
    },
    "step22": {
     "name": "step22",
     "points": 3,
     "suites": [
      {
       "cases": [],
       "scored": true,
       "setup": "",
       "teardown": "",
       "type": "doctest"
      }
     ]
    },
    "step23": {
     "name": "step23",
     "points": 2,
     "suites": [
      {
       "cases": [],
       "scored": true,
       "setup": "",
       "teardown": "",
       "type": "doctest"
      }
     ]
    },
    "step24": {
     "name": "step24",
     "points": 3,
     "suites": [
      {
       "cases": [],
       "scored": true,
       "setup": "",
       "teardown": "",
       "type": "doctest"
      }
     ]
    }
   }
  }
 },
 "nbformat": 4,
 "nbformat_minor": 4
}
